{
 "cells": [
  {
   "cell_type": "markdown",
   "metadata": {},
   "source": [
    "## Show regression results using normal equation and sklearn package"
   ]
  },
  {
   "cell_type": "code",
   "execution_count": 1,
   "metadata": {},
   "outputs": [],
   "source": [
    "import pandas as pd\n",
    "import matplotlib.pyplot as plt\n",
    "import seaborn as sns\n",
    "sns.set(color_codes=True)\n",
    "import numpy as np\n",
    "from scipy.stats import norm\n",
    "from sklearn.preprocessing import StandardScaler\n",
    "from scipy import stats\n",
    "import warnings\n",
    "from mpl_toolkits.mplot3d import Axes3D\n",
    "warnings.filterwarnings('ignore')\n",
    "#%matplotlib inline\n",
    "%matplotlib notebook"
   ]
  },
  {
   "cell_type": "code",
   "execution_count": 2,
   "metadata": {},
   "outputs": [],
   "source": [
    "# columns are x1, x2, x0, y\n",
    "data = pd.read_csv(\"2D_MLE_MAP_Data.csv\", header=None, index_col=None, skiprows=2)\n",
    "# third column is x0 so need to rearrange\n",
    "data_new = data[[2,0,1,3]]"
   ]
  },
  {
   "cell_type": "markdown",
   "metadata": {},
   "source": [
    "## Compute MLE weights using normal equation"
   ]
  },
  {
   "cell_type": "markdown",
   "metadata": {},
   "source": [
    "$$w_{MLE} = (X^TX)^{-1} X^T{y}$$"
   ]
  },
  {
   "cell_type": "code",
   "execution_count": 3,
   "metadata": {},
   "outputs": [
    {
     "data": {
      "text/plain": [
       "array([ 0.80906676,  0.71019338,  0.4603808 ])"
      ]
     },
     "execution_count": 3,
     "metadata": {},
     "output_type": "execute_result"
    }
   ],
   "source": [
    "m = 31\n",
    "x_train = data_new.iloc[0:m-1,0:3] #dont know why this works, carry on\n",
    "y_train = data_new.iloc[0:m-1, 3]\n",
    "xTx = x_train.T.dot(x_train)\n",
    "XtX = np.linalg.inv(xTx)\n",
    "w_mle = XtX.dot(x_train.T).dot(y_train)\n",
    "w_mle"
   ]
  },
  {
   "cell_type": "markdown",
   "metadata": {},
   "source": [
    "## Compute MLE weights using sklearn linear.fit function"
   ]
  },
  {
   "cell_type": "code",
   "execution_count": 4,
   "metadata": {},
   "outputs": [
    {
     "name": "stdout",
     "output_type": "stream",
     "text": [
      "Coefficient: \n",
      " [ 0.          0.71019338  0.4603808 ]\n",
      "Intercept: \n",
      " 0.809066760915\n"
     ]
    }
   ],
   "source": [
    "# Using sklearn\n",
    "from sklearn import linear_model\n",
    "# Create linear regression object\n",
    "linear = linear_model.LinearRegression()\n",
    "# Train the model using the training sets and check score\n",
    "linear.fit(x_train, y_train)\n",
    "linear.score(x_train, y_train)\n",
    "#Equation coefficient and Intercept\n",
    "print('Coefficient: \\n', linear.coef_)\n",
    "print('Intercept: \\n', linear.intercept_)"
   ]
  },
  {
   "cell_type": "markdown",
   "metadata": {},
   "source": [
    "## Compute the ridge regression weights, i.e. l2 regularization via normal equation"
   ]
  },
  {
   "cell_type": "markdown",
   "metadata": {},
   "source": [
    "$$w_{ridge}=(X^TX+\\lambda*I)^{-1} X^T{y} $$"
   ]
  },
  {
   "cell_type": "code",
   "execution_count": 10,
   "metadata": {},
   "outputs": [
    {
     "data": {
      "text/plain": [
       "array([[ 0.79561782],\n",
       "       [ 0.70229278],\n",
       "       [ 0.45051326]])"
      ]
     },
     "execution_count": 10,
     "metadata": {},
     "output_type": "execute_result"
    }
   ],
   "source": [
    "l = .5\n",
    "dim = 3\n",
    "reg = np.matrix(np.eye(dim,dim)*l)\n",
    "xTx = x_train.T.dot(x_train)+reg\n",
    "XtX = np.linalg.inv(xTx)\n",
    "w_ridge = XtX.dot(pd.DataFrame((x_train.T).dot(y_train)))\n",
    "w_ridge"
   ]
  },
  {
   "cell_type": "markdown",
   "metadata": {},
   "source": [
    "## Compute ridge regression using sklearn"
   ]
  },
  {
   "cell_type": "code",
   "execution_count": 9,
   "metadata": {},
   "outputs": [
    {
     "name": "stdout",
     "output_type": "stream",
     "text": [
      "Coefficient: \n",
      " [ 0.          0.70341614  0.45674915]\n",
      "Intercept: \n",
      " 0.808973342844\n"
     ]
    }
   ],
   "source": [
    "#I gotta sort out the value of alpha vs. lambda\n",
    "from sklearn.linear_model import Ridge\n",
    "ridgereg = Ridge(alpha=.01,normalize=True)\n",
    "ridgereg.fit(x_train, y_train)\n",
    "ridgereg.score(x_train, y_train)\n",
    "#Equation coefficient and Intercept\n",
    "print('Coefficient: \\n', ridgereg.coef_)\n",
    "print('Intercept: \\n', ridgereg.intercept_)"
   ]
  }
 ],
 "metadata": {
  "kernelspec": {
   "display_name": "Python 3",
   "language": "python",
   "name": "python3"
  },
  "language_info": {
   "codemirror_mode": {
    "name": "ipython",
    "version": 3
   },
   "file_extension": ".py",
   "mimetype": "text/x-python",
   "name": "python",
   "nbconvert_exporter": "python",
   "pygments_lexer": "ipython3",
   "version": "3.5.0"
  }
 },
 "nbformat": 4,
 "nbformat_minor": 2
}
